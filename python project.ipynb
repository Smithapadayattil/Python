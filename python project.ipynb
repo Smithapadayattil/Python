{
 "cells": [
  {
   "cell_type": "code",
   "execution_count": 1,
   "id": "93bde953-9ade-4096-a775-9d435981e71d",
   "metadata": {},
   "outputs": [],
   "source": [
    "class BankAccount:\n",
    "    def __init__(self,account_no,name,balance=0.0):\n",
    "        self.account_no = account_no\n",
    "        self.name = name\n",
    "        self.balance = balance\n",
    "    def deposit(self,amount):\n",
    "       global balance\n",
    "       if amount>0:\n",
    "        self.balance += amount\n",
    "        print(f\"{amount}deposited. New balance = {self.balance}\")\n",
    "       else:\n",
    "        print(\"Invalid deposit amount\")\n",
    "    def withdraw(self,amount):\n",
    "      if amount<=self.balance:\n",
    "         self.balance -= amount    \n",
    "         print(f\"{amount} withdrawn. Remaining balance: {self.balance}\")\n",
    "      else:\n",
    "        print(\"insufficent Fund\")\n",
    "    def display(self):\n",
    "        print(\"\\nAccount Details: \")\n",
    "        print(f\"Account Number: {self.account_no}\")\n",
    "        print(f\"Account Holder: {self.name}\")\n",
    "        print(f\"Account Balance: {self.balance}\")"
   ]
  },
  {
   "cell_type": "code",
   "execution_count": 2,
   "id": "39ece080-187b-4975-9741-be95dc72f41e",
   "metadata": {},
   "outputs": [],
   "source": [
    "def display(self):\n",
    "    print(\"\\nAccount Details: \")\n",
    "    print(f\"Account Number: {self.account_no}\")\n",
    "    print(f\"Account Holder: {self.name}\")\n",
    "    print(f\"Account Balance: {self.balance}\")"
   ]
  },
  {
   "cell_type": "code",
   "execution_count": 3,
   "id": "b47974c7-00d0-487c-89e3-37e962733fba",
   "metadata": {},
   "outputs": [
    {
     "name": "stdin",
     "output_type": "stream",
     "text": [
      "Enter your account number:  5562389561\n",
      "Enter your name:  Smitha\n",
      "Enter your balance amount:  500\n"
     ]
    },
    {
     "name": "stdout",
     "output_type": "stream",
     "text": [
      "\n",
      "1.Deposit\n",
      "2.Withdraw\n",
      "3.Display\n",
      "4.Exit\n"
     ]
    },
    {
     "name": "stdin",
     "output_type": "stream",
     "text": [
      "Enter your choice:  1\n",
      "Enter the amount to deposit:  1500\n"
     ]
    },
    {
     "name": "stdout",
     "output_type": "stream",
     "text": [
      "1500.0deposited. New balance = 2000.0\n",
      "\n",
      "1.Deposit\n",
      "2.Withdraw\n",
      "3.Display\n",
      "4.Exit\n"
     ]
    },
    {
     "name": "stdin",
     "output_type": "stream",
     "text": [
      "Enter your choice:  2\n",
      "Enter the amount to withdraw:  600\n"
     ]
    },
    {
     "name": "stdout",
     "output_type": "stream",
     "text": [
      "600.0 withdrawn. Remaining balance: 1400.0\n",
      "\n",
      "1.Deposit\n",
      "2.Withdraw\n",
      "3.Display\n",
      "4.Exit\n"
     ]
    },
    {
     "name": "stdin",
     "output_type": "stream",
     "text": [
      "Enter your choice:  3\n"
     ]
    },
    {
     "name": "stdout",
     "output_type": "stream",
     "text": [
      "\n",
      "Account Details: \n",
      "Account Number: 5562389561\n",
      "Account Holder: Smitha\n",
      "Account Balance: 1400.0\n",
      "\n",
      "1.Deposit\n",
      "2.Withdraw\n",
      "3.Display\n",
      "4.Exit\n"
     ]
    },
    {
     "name": "stdin",
     "output_type": "stream",
     "text": [
      "Enter your choice:  4\n"
     ]
    },
    {
     "name": "stdout",
     "output_type": "stream",
     "text": [
      "Thank you for using our services\n"
     ]
    }
   ],
   "source": [
    "account_no=int(input(\"Enter your account number: \"))\n",
    "name=input(\"Enter your name: \")\n",
    "balance=int(input(\"Enter your balance amount: \"))\n",
    "account1=BankAccount(account_no,name,balance)\n",
    "global amount\n",
    "while True:\n",
    "  print(\"\\n1.Deposit\\n2.Withdraw\\n3.Display\\n4.Exit\")\n",
    "  choice=int(input(\"Enter your choice: \"))\n",
    "  if choice==1:\n",
    "    amount=float(input(\"Enter the amount to deposit: \"))\n",
    "    account1.deposit(amount)\n",
    "  elif choice==2:\n",
    "    amount=float(input(\"Enter the amount to withdraw: \"))\n",
    "    account1.withdraw(amount)\n",
    "  elif choice==3:\n",
    "    account1.display()\n",
    "  elif choice==4:\n",
    "    print(\"Thank you for using our services\")\n",
    "    break"
   ]
  },
  {
   "cell_type": "code",
   "execution_count": null,
   "id": "81b1ad40-97a8-4c69-a190-5f54b107a9c9",
   "metadata": {},
   "outputs": [],
   "source": []
  }
 ],
 "metadata": {
  "kernelspec": {
   "display_name": "Python 3 (ipykernel)",
   "language": "python",
   "name": "python3"
  },
  "language_info": {
   "codemirror_mode": {
    "name": "ipython",
    "version": 3
   },
   "file_extension": ".py",
   "mimetype": "text/x-python",
   "name": "python",
   "nbconvert_exporter": "python",
   "pygments_lexer": "ipython3",
   "version": "3.12.7"
  }
 },
 "nbformat": 4,
 "nbformat_minor": 5
}
